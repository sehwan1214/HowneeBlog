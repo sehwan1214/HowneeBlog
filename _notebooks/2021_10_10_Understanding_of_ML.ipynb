{
  "nbformat": 4,
  "nbformat_minor": 0,
  "metadata": {
    "colab": {
      "name": "2021-10-10-Understanding_of_ML.ipynb",
      "provenance": [],
      "collapsed_sections": [],
      "toc_visible": true
    },
    "kernelspec": {
      "name": "python3",
      "display_name": "Python 3"
    },
    "language_info": {
      "name": "python"
    }
  },
  "cells": [
    {
      "cell_type": "markdown",
      "metadata": {
        "id": "Sg_CcmnWaf52"
      },
      "source": [
        "# \"Understanding of Machine Learning\"\n",        
        "\n",
        "#**Understanding of Machine Learning**\n",
        "\n",
        "\n",
        "---\n",
        "\n",
        "\n",
        "\n",
        "1.   Classification of Machine Learning\n",
        "2.   Numpy\n",
        "3.   Data Handling - Pandas"
      ]
    },
    {
      "cell_type": "markdown",
      "metadata": {
        "id": "d4iFhsUQj3fo"
      },
      "source": [
        "##**1. Classification of Machine Learning**\n",
        "\n",
        "\n",
        "\n",
        "*   **Supervised - Learning**\n",
        "\n",
        "1.   Classification\n",
        "2.   Regression\n",
        "3.   Recommendation System\n",
        "4.   Visual/Speech recognition\n",
        "5.   Text Analysis, NLP\n",
        "\n",
        "*   **Unsupervised - Learning**\n",
        "\n",
        "1.   Clustering\n",
        "2.   Dimension Reduction\n",
        "3.   Reinforcement Learning\n",
        "\n",
        "\n",
        "\n"
      ]
    },
    {
      "cell_type": "markdown",
      "metadata": {
        "id": "kcOw6BtnlT6R"
      },
      "source": [
        "##**2. Numpy**\n",
        "\n",
        "    Numpy, which means numerical Python, is a representative package that helps Python create linear algebra-based programs easily.\n",
        "    Understanding Numpy is so important in python-based Machine Learning. \n",
        "\n",
        "\n",
        "1.   Overview of Numpy\n",
        "2.   Ndarray's data type\n",
        "3.   Create ndarray comfortably - arange, zeros, ones\n",
        "4.   To change the dimension and size of ndarray - reshape()\n",
        "5.   Choose ndarray's dataset - indexing\n",
        "6.   Sort of matrix - sort(), argsort()\n",
        "7.   Linear algebra operation - Inner product and transposed matrix\n",
        "\n"
      ]
    },
    {
      "cell_type": "markdown",
      "metadata": {
        "id": "gFf0aNLbmq3L"
      },
      "source": [
        "### 1. Overview of Numpy\n",
        "\n"
      ]
    },
    {
      "cell_type": "markdown",
      "metadata": {
        "id": "MrJjgNtn0USH"
      },
      "source": [
        "* Numpy-based data type = ndarray\n",
        "* Shape -> Form of a tuple(row,columns) \n",
        "* ndarray.ndim"
      ]
    },
    {
      "cell_type": "code",
      "metadata": {
        "colab": {
          "base_uri": "https://localhost:8080/"
        },
        "id": "qGJMgrnOmyKb",
        "outputId": "1ae2a870-9b0e-4b0e-f18f-156bad9f9823"
      },
      "source": [
        "import numpy as np\n",
        "array1 = np.array([1,2,3])\n",
        "print('array1 type: ', type(array1))\n",
        "print('array1.shape: ', array1.shape)\n",
        "\n",
        "array2 = np.array([[1,2,3],[4,5,6]])\n",
        "print('array2 type: ', type(array2))\n",
        "print('array2.shape: ', array2.shape)\n",
        "\n",
        "array3 = np.array([[1,2,3]])\n",
        "print('array3 type: ', type(array3))\n",
        "print('array3.shape: ', array3.shape)\n",
        "\n",
        "print(\"array1: {0}-dimensional, array2: {1}-dimensional, array3: {2}-dimensional\".format(array1.ndim, array2.ndim, array3.ndim))"
      ],
      "execution_count": null,
      "outputs": [
        {
          "output_type": "stream",
          "name": "stdout",
          "text": [
            "array1 type:  <class 'numpy.ndarray'>\n",
            "array1.shape:  (3,)\n",
            "array2 type:  <class 'numpy.ndarray'>\n",
            "array2.shape:  (2, 3)\n",
            "array3 type:  <class 'numpy.ndarray'>\n",
            "array3.shape:  (1, 3)\n",
            "array1: 1-dimensional, array2: 2-dimensional, array3: 2-dimensional\n"
          ]
        }
      ]
    },
    {
      "cell_type": "markdown",
      "metadata": {
        "id": "dtHFJID3qeCp"
      },
      "source": [
        "### 2. ndarray's data type\n",
        "\n",
        "     Only the same data type can be used in ndarray \n",
        "     If other data types are mixed, type conversion is applied to data types with larger data sizes"
      ]
    },
    {
      "cell_type": "markdown",
      "metadata": {
        "id": "8qJ-KFl50tgi"
      },
      "source": [
        "* ndarray.dtype\n",
        "* Type conversion is applied to data types with larger data sizes"
      ]
    },
    {
      "cell_type": "code",
      "metadata": {
        "colab": {
          "base_uri": "https://localhost:8080/"
        },
        "id": "wh92aR4gqjl_",
        "outputId": "bf692548-51b1-4d17-e3d7-80a07f1de230"
      },
      "source": [
        "list1 = [1, 2, 3]\n",
        "print(type(list1))\n",
        "array1 = np.array(list1)\n",
        "print(type(array1))\n",
        "print(array1, array1.dtype)\n",
        "\n",
        "list2 = [1, 2, 'test']\n",
        "array2 = np.array(list2)\n",
        "print(array2, array2.dtype)\n",
        "\n",
        "list3 = [1, 2, 3.0]\n",
        "array3 = np.array(list3)\n",
        "print(array3, array3.dtype)"
      ],
      "execution_count": null,
      "outputs": [
        {
          "output_type": "stream",
          "name": "stdout",
          "text": [
            "<class 'list'>\n",
            "<class 'numpy.ndarray'>\n",
            "[1 2 3] int64\n",
            "['1' '2' 'test'] <U21\n",
            "[1. 2. 3.] float64\n"
          ]
        }
      ]
    },
    {
      "cell_type": "markdown",
      "metadata": {
        "id": "5I1UdZ9Ftdy3"
      },
      "source": [
        "\n",
        "\n",
        "*   Change the type of data for saving memory -> ndarray.astype \n",
        "\n",
        "\n"
      ]
    },
    {
      "cell_type": "code",
      "metadata": {
        "id": "Ljj7LyA9rtnO",
        "colab": {
          "base_uri": "https://localhost:8080/"
        },
        "outputId": "955659ba-d2c1-4622-8596-7e759b3958ee"
      },
      "source": [
        "array_int = np.array([1,2,3])\n",
        "array_float = array_int.astype('float64')\n",
        "print(array_float, array_float.dtype)\n",
        "\n",
        "array_int1 = array_float.astype('int32')\n",
        "print(array_int1, array_int1.dtype)\n",
        "\n",
        "array_float1 = np.array([1.1, 2.1, 3.1])\n",
        "array_int2 = array_float1.astype('int32')\n",
        "print(array_int2, array_int2.dtype)"
      ],
      "execution_count": null,
      "outputs": [
        {
          "output_type": "stream",
          "name": "stdout",
          "text": [
            "[1. 2. 3.] float64\n",
            "[1 2 3] int32\n",
            "[1 2 3] int32\n"
          ]
        }
      ]
    },
    {
      "cell_type": "markdown",
      "metadata": {
        "id": "abSv63zjusze"
      },
      "source": [
        "### 3.   Create ndarray comfortably - arange, zeros, ones\n",
        "    Used to create data primarily for testing or to initialize large amounts of data collectively."
      ]
    },
    {
      "cell_type": "markdown",
      "metadata": {
        "id": "SxjdM5t0zcVq"
      },
      "source": [
        "* arange, zeros, ones"
      ]
    },
    {
      "cell_type": "code",
      "metadata": {
        "colab": {
          "base_uri": "https://localhost:8080/"
        },
        "id": "7L3CfmOyuV2B",
        "outputId": "bb7b1ed8-b8fb-4fa0-b789-35bdf9fc4413"
      },
      "source": [
        "sequence_array = np.arange(10)\n",
        "print(sequence_array)\n",
        "print(sequence_array.dtype, sequence_array.shape)\n",
        "\n",
        "zero_array = np.zeros((3,2), dtype='int32')\n",
        "print(zero_array)\n",
        "print(zero_array.dtype, zero_array.shape)\n",
        "\n",
        "one_array = np.ones((3,2))\n",
        "print(one_array)\n",
        "print(one_array.dtype, one_array.shape)"
      ],
      "execution_count": null,
      "outputs": [
        {
          "output_type": "stream",
          "name": "stdout",
          "text": [
            "[0 1 2 3 4 5 6 7 8 9]\n",
            "int64 (10,)\n",
            "[[0 0]\n",
            " [0 0]\n",
            " [0 0]]\n",
            "int32 (3, 2)\n",
            "[[1. 1.]\n",
            " [1. 1.]\n",
            " [1. 1.]]\n",
            "float64 (3, 2)\n"
          ]
        }
      ]
    },
    {
      "cell_type": "markdown",
      "metadata": {
        "id": "Z7tVf_ysyRAW"
      },
      "source": [
        "### 4. To change the dimension and size of ndarray - reshape()\n",
        "    If -1 is used as a factor, it's going to be a new type that's compatible with ndarray. \n",
        "    reshape(-1,1) -> ndarray must be converted into 2-dimensional in any form with 1 column no matter how many rows it has.\n",
        "                     In conclusion, converting to 1-dimensional arrangement."
      ]
    },
    {
      "cell_type": "markdown",
      "metadata": {
        "id": "rNSdIrG0B83J"
      },
      "source": [
        "* reshape"
      ]
    },
    {
      "cell_type": "code",
      "metadata": {
        "colab": {
          "base_uri": "https://localhost:8080/"
        },
        "id": "mg8RLYuLxWGW",
        "outputId": "e9089044-00a7-42b3-bd3b-21a245c02095"
      },
      "source": [
        "array1 = np.arange(10)\n",
        "print('array1:\\n', array1)\n",
        "\n",
        "array2 = array1.reshape(2,5)\n",
        "print('array2:\\n', array2)\n",
        "\n",
        "array3 = array1.reshape(5,2)\n",
        "print('array3:\\n', array3)"
      ],
      "execution_count": null,
      "outputs": [
        {
          "output_type": "stream",
          "name": "stdout",
          "text": [
            "array1:\n",
            " [0 1 2 3 4 5 6 7 8 9]\n",
            "array2:\n",
            " [[0 1 2 3 4]\n",
            " [5 6 7 8 9]]\n",
            "array3:\n",
            " [[0 1]\n",
            " [2 3]\n",
            " [4 5]\n",
            " [6 7]\n",
            " [8 9]]\n"
          ]
        }
      ]
    },
    {
      "cell_type": "markdown",
      "metadata": {
        "id": "tMGMsEmS1aaa"
      },
      "source": [
        "* Use -1 factor in reshape"
      ]
    },
    {
      "cell_type": "code",
      "metadata": {
        "colab": {
          "base_uri": "https://localhost:8080/"
        },
        "id": "FVEzkEryy6Gw",
        "outputId": "008152cb-4293-4192-fbd7-37f5fa6ba01a"
      },
      "source": [
        "array1 = np.arange(10)\n",
        "print(array1)\n",
        "array2 = array1.reshape(-1, 5)\n",
        "print('array2.shape:', array2.shape)\n",
        "array3 = array1.reshape(5, -1)\n",
        "print('array3.shape:', array3.shape)"
      ],
      "execution_count": null,
      "outputs": [
        {
          "output_type": "stream",
          "name": "stdout",
          "text": [
            "[0 1 2 3 4 5 6 7 8 9]\n",
            "array2.shape: (2, 5)\n",
            "array3.shape: (5, 2)\n"
          ]
        }
      ]
    },
    {
      "cell_type": "markdown",
      "metadata": {
        "id": "dxUfvsxu3DOF"
      },
      "source": [
        "*  reshape(-1, 1)"
      ]
    },
    {
      "cell_type": "code",
      "metadata": {
        "colab": {
          "base_uri": "https://localhost:8080/"
        },
        "id": "Ugz_220t16nS",
        "outputId": "105bca0c-f07f-490a-937d-7839973634f7"
      },
      "source": [
        "array1 = np.arange(8)\n",
        "array3d = array1.reshape((2,2,2))\n",
        "print('array3d:\\n', array3d.tolist())\n",
        "\n",
        "# 3-dimensional -> 2-dimensional\n",
        "array5 = array3d.reshape(-1,1)\n",
        "print('array5:\\n', array5.tolist())\n",
        "print('array5.shape:', array5.shape)\n",
        "\n",
        "#1-dimensional -> 2-dimensional\n",
        "array6 = array1.reshape(-1,1)\n",
        "print('array6:\\n', array6.tolist())\n",
        "print('array6.shape:', array6.shape)"
      ],
      "execution_count": null,
      "outputs": [
        {
          "output_type": "stream",
          "name": "stdout",
          "text": [
            "array3d:\n",
            " [[[0, 1], [2, 3]], [[4, 5], [6, 7]]]\n",
            "array5:\n",
            " [[0], [1], [2], [3], [4], [5], [6], [7]]\n",
            "array5.shape: (8, 1)\n",
            "array6:\n",
            " [[0], [1], [2], [3], [4], [5], [6], [7]]\n",
            "array6.shape: (8, 1)\n"
          ]
        }
      ]
    },
    {
      "cell_type": "markdown",
      "metadata": {
        "id": "JXUIC5Wf45PQ"
      },
      "source": [
        "### 5.   Choose ndarray's dataset - indexing\n",
        "    * Extract only specific data: Specify the desired index value, return the location data.\n",
        "    * Slicing: Extracting ndarrays on a continuous index.\n",
        "    * Fancy indexing: A certain set of indexes is designated in the form of a list or ndarray and returns the ndarray of the data in the corresponding location.\n",
        "    * Boolean indexing: Returns the end of data at the index location corresponding to the true based on a set of true/false value indexes that correspond to a specific condition."
      ]
    },
    {
      "cell_type": "markdown",
      "metadata": {
        "id": "QVvz1gpUB0uk"
      },
      "source": [
        "* Extract only specific data"
      ]
    },
    {
      "cell_type": "code",
      "metadata": {
        "id": "1_0zcH7t3uih",
        "colab": {
          "base_uri": "https://localhost:8080/"
        },
        "outputId": "127400b8-00eb-401e-c090-7b6f806ac0de"
      },
      "source": [
        "array1 = np.arange(1,10)\n",
        "print('array1:', array1)\n",
        "value = array1[2]\n",
        "print('value:', value)\n",
        "print(type(value))\n",
        "print('The first value from the back: {0}, The second value from the back: {1}'.format(array1[-1],array1[-2]))"
      ],
      "execution_count": 24,
      "outputs": [
        {
          "output_type": "stream",
          "name": "stdout",
          "text": [
            "array1: [1 2 3 4 5 6 7 8 9]\n",
            "value: 3\n",
            "<class 'numpy.int64'>\n",
            "The first value from the back: 9, The second value from the back: 8\n"
          ]
        }
      ]
    },
    {
      "cell_type": "code",
      "metadata": {
        "colab": {
          "base_uri": "https://localhost:8080/"
        },
        "id": "4gNdH_tDCX4k",
        "outputId": "934735de-d78a-4e35-b8de-7c55fee00245"
      },
      "source": [
        "array2d = array1.reshape(3,3)\n",
        "print(array2d)\n",
        "value = array2d[1,1]\n",
        "print('array2d[1,1]:',value)"
      ],
      "execution_count": 25,
      "outputs": [
        {
          "output_type": "stream",
          "name": "stdout",
          "text": [
            "[[1 2 3]\n",
            " [4 5 6]\n",
            " [7 8 9]]\n",
            "array2d[1,1]: 5\n"
          ]
        }
      ]
    },
    {
      "cell_type": "markdown",
      "metadata": {
        "id": "2WFmUjYaDSw8"
      },
      "source": [
        "* Slicing"
      ]
    },
    {
      "cell_type": "code",
      "metadata": {
        "colab": {
          "base_uri": "https://localhost:8080/"
        },
        "id": "ORGec1vTDIBE",
        "outputId": "c44c65a4-0c85-4037-a867-232b150f51ba"
      },
      "source": [
        "array1 = np.arange(1,10)\n",
        "array3 = array1[0:3]\n",
        "print(array3)\n",
        "print(type(array3))"
      ],
      "execution_count": 27,
      "outputs": [
        {
          "output_type": "stream",
          "name": "stdout",
          "text": [
            "[1 2 3]\n",
            "<class 'numpy.ndarray'>\n"
          ]
        }
      ]
    },
    {
      "cell_type": "code",
      "metadata": {
        "colab": {
          "base_uri": "https://localhost:8080/"
        },
        "id": "fVhRcMnPDcfe",
        "outputId": "6f0cfec9-1737-4fcc-83fc-f3a754406073"
      },
      "source": [
        "array4 = array1[:3]\n",
        "print(array4)\n",
        "array5 = array1[3:]\n",
        "print(array5)\n",
        "array6 = array1[:]\n",
        "print(array6)"
      ],
      "execution_count": 28,
      "outputs": [
        {
          "output_type": "stream",
          "name": "stdout",
          "text": [
            "[1 2 3]\n",
            "[4 5 6 7 8 9]\n",
            "[1 2 3 4 5 6 7 8 9]\n"
          ]
        }
      ]
    },
    {
      "cell_type": "code",
      "metadata": {
        "colab": {
          "base_uri": "https://localhost:8080/"
        },
        "id": "jvLn8DqNDo4G",
        "outputId": "859dcec6-c7b3-44ef-e46f-5ce7f39ce100"
      },
      "source": [
        "print('array2d:\\n', array2d)\n",
        "print('array2d[0:2,0:2]:\\n',array2d[0:2,0:2])\n",
        "print('array2d[1:3,0:3]:\\n',array2d[1:3,0:3])\n",
        "print('array2d[:,:]:\\n',array2d[:,:])"
      ],
      "execution_count": 30,
      "outputs": [
        {
          "output_type": "stream",
          "name": "stdout",
          "text": [
            "array2d:\n",
            " [[1 2 3]\n",
            " [4 5 6]\n",
            " [7 8 9]]\n",
            "array2d[0:2,0:2]:\n",
            " [[1 2]\n",
            " [4 5]]\n",
            "array2d[1:3,0:3]:\n",
            " [[4 5 6]\n",
            " [7 8 9]]\n",
            "array2d[:,:]:\n",
            " [[1 2 3]\n",
            " [4 5 6]\n",
            " [7 8 9]]\n"
          ]
        }
      ]
    },
    {
      "cell_type": "code",
      "metadata": {
        "colab": {
          "base_uri": "https://localhost:8080/"
        },
        "id": "ZoiPcXsgD_rq",
        "outputId": "350f3471-118b-4ef5-9c6f-6640c81d1763"
      },
      "source": [
        "print(array2d[0])\n",
        "print(array2d[1])\n",
        "print('array2d[0].shape:', array2d[0].shape, 'array2d[1].shape:',array2d[1].shape)"
      ],
      "execution_count": 34,
      "outputs": [
        {
          "output_type": "stream",
          "name": "stdout",
          "text": [
            "[1 2 3]\n",
            "[4 5 6]\n",
            "array2d[0].shape: (3,) array2d[1].shape: (3,)\n"
          ]
        }
      ]
    },
    {
      "cell_type": "markdown",
      "metadata": {
        "id": "I8INVFpWEvIz"
      },
      "source": [
        "* Fancy indexing"
      ]
    },
    {
      "cell_type": "code",
      "metadata": {
        "colab": {
          "base_uri": "https://localhost:8080/"
        },
        "id": "yxKVjJFPES5F",
        "outputId": "1f81cbd7-6d55-4494-b377-39368f602938"
      },
      "source": [
        "array1d = np.arange(1,10)\n",
        "array2d = array1d.reshape(3,3)\n",
        "\n",
        "array3 = array2d[[0,1],2]\n",
        "print('array2d[[0,1],2] => ', array3.tolist())\n",
        "\n",
        "array4 = array2d[[0,1],0:2]\n",
        "print('array2d[[0,1],0:2] => ', array4.tolist())\n",
        "\n",
        "array5 = array2d[[0,1]]\n",
        "print('array2d[[0,1]] => ', array5.tolist())"
      ],
      "execution_count": 35,
      "outputs": [
        {
          "output_type": "stream",
          "name": "stdout",
          "text": [
            "array2d[[0,1],2] =>  [3, 6]\n",
            "array2d[[0,1],0:2] =>  [[1, 2], [4, 5]]\n",
            "array2d[[0,1]] =>  [[1, 2, 3], [4, 5, 6]]\n"
          ]
        }
      ]
    },
    {
      "cell_type": "markdown",
      "metadata": {
        "id": "nNdJhCsBFObT"
      },
      "source": [
        "* Boolean indexing"
      ]
    },
    {
      "cell_type": "code",
      "metadata": {
        "colab": {
          "base_uri": "https://localhost:8080/"
        },
        "id": "crRmBmONFKlS",
        "outputId": "91a65a1a-0221-4639-97a5-34a97e2bfa61"
      },
      "source": [
        "array1d = np.arange(1,10)\n",
        "print('array1d:', array1d)\n",
        "print('array1d>5:', array1d>5)\n",
        "array3 = array1d[array1d>5]\n",
        "print('array1d>5 boolean indexing values:', array3)"
      ],
      "execution_count": 37,
      "outputs": [
        {
          "output_type": "stream",
          "name": "stdout",
          "text": [
            "array1d: [1 2 3 4 5 6 7 8 9]\n",
            "array1d>5: [False False False False False  True  True  True  True]\n",
            "array1d>5 boolean indexing values: [6 7 8 9]\n"
          ]
        }
      ]
    },
    {
      "cell_type": "code",
      "metadata": {
        "colab": {
          "base_uri": "https://localhost:8080/"
        },
        "id": "nJcbzEWYFf1a",
        "outputId": "d7e1710e-29b2-4481-e33e-a958d8ee9b3f"
      },
      "source": [
        "indexes1 = np.array([5,6,7,8])\n",
        "indexes2 = [5,6,7,8]\n",
        "array4_1 = array1d[indexes1]\n",
        "array4_2 = array1d[indexes2]\n",
        "print(array4_1)\n",
        "print(array4_2)"
      ],
      "execution_count": 39,
      "outputs": [
        {
          "output_type": "stream",
          "name": "stdout",
          "text": [
            "[6 7 8 9]\n",
            "[6 7 8 9]\n"
          ]
        }
      ]
    },
    {
      "cell_type": "markdown",
      "metadata": {
        "id": "csLK5lczGP_Q"
      },
      "source": [
        "###6. Sort of matrix - sort(), argsort()\n",
        "    default = ascending sort\n",
        "    ex) [3,1,9,5] -> [1,3,5,9]    \n",
        "    Sort by raw or column using axis\n",
        "    argsort() -> Use when an original matrix is sorted and an index for an element of an existing original matrix is required.\n",
        "                 Very useful in Numpy\n",
        "\n",
        "    "
      ]
    },
    {
      "cell_type": "markdown",
      "metadata": {
        "id": "oJTj_BWnGgBs"
      },
      "source": [
        "* ndarray.sort()"
      ]
    },
    {
      "cell_type": "code",
      "metadata": {
        "colab": {
          "base_uri": "https://localhost:8080/"
        },
        "id": "boyM7LioF7XL",
        "outputId": "32ad4d43-b32e-4785-eff7-744888d00119"
      },
      "source": [
        "org_array = np.array([3,1,9,5])\n",
        "print(\"original_array:\", org_array)\n",
        "\n",
        "sort_array_1 = org_array.sort()\n",
        "print(\"original_array:\", org_array)\n",
        "print(\"sort_array1:\", sort_array_1)"
      ],
      "execution_count": 40,
      "outputs": [
        {
          "output_type": "stream",
          "name": "stdout",
          "text": [
            "original_array: [3 1 9 5]\n",
            "original_array: [1 3 5 9]\n",
            "sort_array1: None\n"
          ]
        }
      ]
    },
    {
      "cell_type": "markdown",
      "metadata": {
        "id": "uuHeL3kkHLfy"
      },
      "source": [
        "* np.sort()"
      ]
    },
    {
      "cell_type": "code",
      "metadata": {
        "colab": {
          "base_uri": "https://localhost:8080/"
        },
        "id": "eSbhWpc3G--o",
        "outputId": "cd396270-5d99-4bfe-8d8d-756b719316dc"
      },
      "source": [
        "org_array = np.array([3,1,9,5])\n",
        "print(\"original_array:\", org_array)\n",
        "\n",
        "sort_array_2 = np.sort(org_array)\n",
        "print(\"original_array:\", org_array)\n",
        "print(\"sort_array2:\", sort_array_1)"
      ],
      "execution_count": 42,
      "outputs": [
        {
          "output_type": "stream",
          "name": "stdout",
          "text": [
            "original_array: [3 1 9 5]\n",
            "original_array: [3 1 9 5]\n",
            "sort_array2: None\n"
          ]
        }
      ]
    },
    {
      "cell_type": "markdown",
      "metadata": {
        "id": "ngjvU_jUHmf-"
      },
      "source": [
        "* Descending sort -> np.sort[::-1]"
      ]
    },
    {
      "cell_type": "code",
      "metadata": {
        "colab": {
          "base_uri": "https://localhost:8080/"
        },
        "id": "sObw02nbHHs5",
        "outputId": "e78771d1-f7c7-4511-94a2-be0de0d59b21"
      },
      "source": [
        "sort_array1_desc = np.sort(org_array)[::-1]\n",
        "print(\"Descending sort array:\", sort_array1_desc)"
      ],
      "execution_count": 43,
      "outputs": [
        {
          "output_type": "stream",
          "name": "stdout",
          "text": [
            "Descending sort array: [9 5 3 1]\n"
          ]
        }
      ]
    },
    {
      "cell_type": "markdown",
      "metadata": {
        "id": "X_-jYap4H8Eh"
      },
      "source": [
        "* Sort the 2-dimensional or higher matrix"
      ]
    },
    {
      "cell_type": "code",
      "metadata": {
        "colab": {
          "base_uri": "https://localhost:8080/"
        },
        "id": "Iw5mWofKH3BA",
        "outputId": "540c92dd-eab6-442a-e978-e6b5cae0fe4b"
      },
      "source": [
        "array2d = np.array([[8,12],[7,1]])\n",
        "print('array2d:\\n', array2d)\n",
        "\n",
        "sort_array2d_axis0 = np.sort(array2d, axis = 0)\n",
        "print('Sorted by raw(axis=0):\\n', sort_array2d_axis0)\n",
        "\n",
        "sort_array2d_axis1 = np.sort(array2d, axis = 1)\n",
        "print('Sorted by column(axis=1):\\n', sort_array2d_axis1)"
      ],
      "execution_count": 46,
      "outputs": [
        {
          "output_type": "stream",
          "name": "stdout",
          "text": [
            "array2d:\n",
            " [[ 8 12]\n",
            " [ 7  1]]\n",
            "Sorted by raw(axis=0):\n",
            " [[ 7  1]\n",
            " [ 8 12]]\n",
            "Sorted by column(axis=1):\n",
            " [[ 8 12]\n",
            " [ 1  7]]\n"
          ]
        }
      ]
    },
    {
      "cell_type": "markdown",
      "metadata": {
        "id": "wO_GuqzJI5sn"
      },
      "source": [
        "* argsort() "
      ]
    },
    {
      "cell_type": "code",
      "metadata": {
        "colab": {
          "base_uri": "https://localhost:8080/"
        },
        "id": "7mVLWvEeIjIQ",
        "outputId": "5d881b9e-5707-442c-f3c1-a0a360b110dc"
      },
      "source": [
        "org_array = np.array([3,1,9,5])\n",
        "sort_indices = np.argsort(org_array)\n",
        "print(type(sort_indices))\n",
        "print(org_array)\n",
        "print(sort_array_2)\n",
        "print('index for an element of an existing original matrix when it is ascending sorted:', sort_indices)"
      ],
      "execution_count": 68,
      "outputs": [
        {
          "output_type": "stream",
          "name": "stdout",
          "text": [
            "<class 'numpy.ndarray'>\n",
            "[3 1 9 5]\n",
            "[1 3 5 9]\n",
            "index for an element of an existing original matrix when it is sorted: [1 0 3 2]\n"
          ]
        }
      ]
    },
    {
      "cell_type": "code",
      "metadata": {
        "colab": {
          "base_uri": "https://localhost:8080/"
        },
        "id": "znyRvZhSKP31",
        "outputId": "297e3f19-65c7-4aa0-e728-038b7f49edcd"
      },
      "source": [
        "org_array = np.array([3,1,9,5])\n",
        "sort_indices_desc = np.argsort(org_array)[::-1]\n",
        "print(type(sort_indices))\n",
        "print(org_array)\n",
        "print(sort_array1_desc)\n",
        "print('index for an element of an existing original matrix when it is descending sorted:', sort_indices_desc)"
      ],
      "execution_count": 70,
      "outputs": [
        {
          "output_type": "stream",
          "name": "stdout",
          "text": [
            "<class 'numpy.ndarray'>\n",
            "[3 1 9 5]\n",
            "[9 5 3 1]\n",
            "index for an element of an existing original matrix when it is descending sorted: [2 3 0 1]\n"
          ]
        }
      ]
    },
    {
      "cell_type": "markdown",
      "metadata": {
        "id": "pzNA6XiAM76j"
      },
      "source": [
        "### 7.   Linear algebra operation - Inner product and transposed matrix"
      ]
    },
    {
      "cell_type": "markdown",
      "metadata": {
        "id": "s29QfJMvNHO8"
      },
      "source": [
        "* Internal -> np.dot()"
      ]
    },
    {
      "cell_type": "code",
      "metadata": {
        "colab": {
          "base_uri": "https://localhost:8080/"
        },
        "id": "rv5AWhX1KjuV",
        "outputId": "c1afd0c0-d5fe-4fce-e173-d06b468db3cc"
      },
      "source": [
        "A = np.array([[1,2,3],[4,5,6]])\n",
        "B = np.array([[7,8],[9,10],[11,12]])\n",
        "print(\"Inner product result:\\n\", np.dot(A,B))"
      ],
      "execution_count": 72,
      "outputs": [
        {
          "output_type": "stream",
          "name": "stdout",
          "text": [
            "Inner product result:\n",
            " [[ 58  64]\n",
            " [139 154]]\n"
          ]
        }
      ]
    },
    {
      "cell_type": "markdown",
      "metadata": {
        "id": "_REWlCuwN5QK"
      },
      "source": [
        "* Transposed matrix"
      ]
    },
    {
      "cell_type": "code",
      "metadata": {
        "colab": {
          "base_uri": "https://localhost:8080/"
        },
        "id": "0bGXH_fpN2Oe",
        "outputId": "91d04c9e-8f68-407b-f525-8438ea1a6e5b"
      },
      "source": [
        "A = np.array([[1,2],[3,4]])\n",
        "transpose_mat = np. transpose(A)\n",
        "print('Transposed matrix:\\n', transpose_mat)"
      ],
      "execution_count": 73,
      "outputs": [
        {
          "output_type": "stream",
          "name": "stdout",
          "text": [
            "Transposed matrix:\n",
            " [[1 3]\n",
            " [2 4]]\n"
          ]
        }
      ]
    },
    {
      "cell_type": "code",
      "metadata": {
        "id": "vOXsYEwjOQT3"
      },
      "source": [
        ""
      ],
      "execution_count": null,
      "outputs": []
    }
  ]
}
